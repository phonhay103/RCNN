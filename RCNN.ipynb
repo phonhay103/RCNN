{
 "cells": [
  {
   "cell_type": "markdown",
   "metadata": {},
   "source": [
    "# Import"
   ]
  },
  {
   "cell_type": "code",
   "execution_count": null,
   "metadata": {},
   "outputs": [],
   "source": [
    "import os\n",
    "import skimage.io\n",
    "import csv\n",
    "import cv2\n",
    "import numpy as np\n",
    "import tensorflow as tf\n",
    "import matplotlib.pyplot as plt\n",
    "import matplotlib.patches as mpatches\n",
    "\n",
    "from zipfile import ZipFile\n",
    "from tensorflow.keras.preprocessing.image import ImageDataGenerator\n",
    "from tensorflow.keras.callbacks import ModelCheckpoint, EarlyStopping\n",
    "\n",
    "from IoU import bb_intersection_over_union"
   ]
  },
  {
   "cell_type": "markdown",
   "metadata": {},
   "source": [
    "# Example"
   ]
  },
  {
   "cell_type": "code",
   "execution_count": null,
   "metadata": {},
   "outputs": [],
   "source": [
    "fname = 'airplane_500'\n",
    "img = skimage.io.imread(fname=f'data/Images/{fname}.jpg')\n",
    "fig, ax = plt.subplots(figsize=(6, 6))\n",
    "ax.imshow(img)\n",
    "\n",
    "with open(f'data/Airplanes_Annotations/{fname}.csv') as csvfile:\n",
    "    spamreader = csv.reader(csvfile, delimiter=' ')\n",
    "    spamreader.__next__()\n",
    "    ground_true = []\n",
    "    for row in spamreader:\n",
    "        x0, y0, x1, y1 = map(int, row)\n",
    "        ground_true.append((x0, y0, x1, y1))\n",
    "        bbox = mpatches.Rectangle((x0, y0), (x1-x0), (y1-y0), fill=False, edgecolor='red', linewidth=1)\n",
    "        ax.add_patch(bbox)\n",
    "\n",
    "plt.axis('off')\n",
    "plt.show()"
   ]
  },
  {
   "cell_type": "markdown",
   "metadata": {},
   "source": [
    "### Selective Search - Python"
   ]
  },
  {
   "cell_type": "code",
   "execution_count": null,
   "metadata": {},
   "outputs": [],
   "source": [
    "from selective_search import selective_search, box_filter\n",
    "\n",
    "boxes = selective_search(img, mode='fast')\n",
    "boxes_filter = box_filter(boxes, min_size=10, topN=80)\n",
    "\n",
    "fig, ax = plt.subplots(figsize=(6, 6))\n",
    "ax.imshow(img)\n",
    "for x, y, width, height in boxes_filter:\n",
    "    bbox = mpatches.Rectangle((x, y), width, height, fill=False, edgecolor='red', linewidth=1)\n",
    "    ax.add_patch(bbox)\n",
    "\n",
    "plt.axis('off')\n",
    "plt.show()"
   ]
  },
  {
   "cell_type": "markdown",
   "metadata": {},
   "source": [
    "### Selective Search - OpenCV"
   ]
  },
  {
   "cell_type": "code",
   "execution_count": null,
   "metadata": {},
   "outputs": [],
   "source": [
    "ss = cv2.ximgproc.segmentation.createSelectiveSearchSegmentation()\n",
    "ss.setBaseImage(img)\n",
    "ss.switchToSelectiveSearchFast()\n",
    "ssresults = ss.process()\n",
    "\n",
    "fig, ax = plt.subplots(figsize=(6, 6))\n",
    "ax.imshow(img)\n",
    "for x, y, width, height in ssresults:\n",
    "    bbox = mpatches.Rectangle((x, y), width, height, fill=False, edgecolor='red', linewidth=1)\n",
    "    ax.add_patch(bbox)\n",
    "    \n",
    "plt.axis('off')\n",
    "plt.show()"
   ]
  },
  {
   "cell_type": "markdown",
   "metadata": {},
   "source": [
    "# Load Data"
   ]
  },
  {
   "cell_type": "code",
   "execution_count": null,
   "metadata": {},
   "outputs": [],
   "source": [
    "if not os.path.exists('data'):\n",
    "    os.mkdir('data')\n",
    "    with ZipFile('Airplanes_Annotations.zip', 'r') as zf:\n",
    "        zf.extractall('data')\n",
    "    with ZipFile('Images.zip', 'r') as zf:\n",
    "        zf.extractall('data')"
   ]
  },
  {
   "cell_type": "code",
   "execution_count": null,
   "metadata": {
    "tags": []
   },
   "outputs": [],
   "source": [
    "train_images = []\n",
    "train_labels = []\n",
    "test_images = []\n",
    "test_gt_values = []\n",
    "ss = cv2.ximgproc.segmentation.createSelectiveSearchSegmentation()\n",
    "MAX_COUNT = 10\n",
    "\n",
    "for image, annot in zip(os.listdir('data/Images'), os.listdir('data/Airplanes_Annotations')):\n",
    "    img = skimage.io.imread(fname=f'data/Images/{image}')\n",
    "    with open(f'data/Airplanes_Annotations/{annot}') as csvfile:\n",
    "        csvreader = csv.reader(csvfile, delimiter=' ')\n",
    "        csvreader.__next__()\n",
    "        ground_truth = [tuple(map(int, row)) for row in csvreader]\n",
    "\n",
    "    if image.startswith(\"airplane\"):\n",
    "        ss.setBaseImage(img)\n",
    "        ss.switchToSelectiveSearchFast()\n",
    "        ssresults = ss.process()\n",
    "\n",
    "        positive_count = 0\n",
    "        negative_count = 0\n",
    "        for gt in ground_truth:\n",
    "            for x, y, width, height in ssresults:\n",
    "                iou = bb_intersection_over_union(gt, (x, y, x+width, y+height))\n",
    "                if positive_count < MAX_COUNT and iou > 0.7:\n",
    "                    img_resized = cv2.resize(img[y:y+height, x:x+width], (224, 224), interpolation=cv2.INTER_AREA)\n",
    "                    train_images.append(img_resized)\n",
    "                    train_labels.append(1)\n",
    "                    positive_count += 1\n",
    "                elif negative_count < MAX_COUNT and iou < 0.3:\n",
    "                    img_resized = cv2.resize(img[y:y+height, x:x+width], (224, 224), interpolation=cv2.INTER_AREA)\n",
    "                    train_images.append(img_resized)\n",
    "                    train_labels.append(0)\n",
    "                    negative_count += 1\n",
    "                elif positive_count >= MAX_COUNT and negative_count >= MAX_COUNT:\n",
    "                    continue\n",
    "    else:\n",
    "        test_images.append(img)\n",
    "        test_gt_values.append(ground_truth)\n",
    "\n",
    "train_images = np.array(train_images)\n",
    "train_labels = np.array(train_labels)"
   ]
  },
  {
   "cell_type": "markdown",
   "metadata": {},
   "source": [
    "# Trainning"
   ]
  },
  {
   "cell_type": "code",
   "execution_count": null,
   "metadata": {},
   "outputs": [],
   "source": [
    "# Model\n",
    "model = tf.keras.applications.vgg16.VGG16(weights='imagenet', include_top=True)\n",
    "for layer in (model.layers)[:15]:\n",
    "    layer.trainable = False\n",
    "output = tf.keras.layers.Dense(1, activation=\"sigmoid\")(model.layers[-2].output)\n",
    "model_final = tf.keras.Model(inputs=model.input, outputs=output)\n",
    "\n",
    "# Fine-tunning\n",
    "model_final.compile(\n",
    "    optimizer=tf.keras.optimizers.Adam(lr=1e-4),\n",
    "    loss='binary_crossentropy',\n",
    "    metrics=[\"accuracy\"]\n",
    ")\n",
    "\n",
    "checkpoint = ModelCheckpoint(\"Model\", monitor='val_loss', verbose=1, save_best_only=True, save_weights_only=False, mode='auto')\n",
    "\n",
    "early = EarlyStopping(monitor='val_loss', min_delta=0, patience=10, verbose=1, mode='auto')\n",
    "\n",
    "datagen = ImageDataGenerator(\n",
    "    rescale= 1./255,\n",
    "    horizontal_flip=True,\n",
    "    vertical_flip=True,\n",
    "    rotation_range=90,\n",
    "    validation_split=0.2\n",
    ")\n",
    "\n",
    "history = model_final.fit_generator(\n",
    "    datagen.flow(train_images, train_labels, subset='training'),\n",
    "    steps_per_epoch=10,\n",
    "    epochs=1000,\n",
    "    validation_data=datagen.flow(train_images, train_labels,subset='validation'),\n",
    "    validation_steps=3,\n",
    "    callbacks=[checkpoint, early]\n",
    ")"
   ]
  },
  {
   "cell_type": "markdown",
   "metadata": {},
   "source": [
    "# Predict"
   ]
  },
  {
   "cell_type": "code",
   "execution_count": null,
   "metadata": {},
   "outputs": [],
   "source": [
    "i = 8\n",
    "img = test_images[i]\n",
    "ground_true = test_gt_values[i]\n",
    "\n",
    "fig, ax = plt.subplots(figsize=(6, 6))\n",
    "for x0, y0, x1, y1 in ground_true:\n",
    "    bbox = mpatches.Rectangle((x0, y0), (x1-x0), (y1-y0), fill=False, edgecolor='red', linewidth=1)\n",
    "    ax.add_patch(bbox)\n",
    "\n",
    "ax.imshow(img)\n",
    "plt.axis('off')\n",
    "plt.show()"
   ]
  },
  {
   "cell_type": "code",
   "execution_count": null,
   "metadata": {},
   "outputs": [],
   "source": [
    "load_model = tf.keras.models.load_model('Model')\n",
    "ss = cv2.ximgproc.segmentation.createSelectiveSearchSegmentation()\n",
    "ss.setBaseImage(img)\n",
    "ss.switchToSelectiveSearchFast()\n",
    "ssresults = ss.process()\n",
    "fig, ax = plt.subplots(figsize=(6, 6))\n",
    "\n",
    "for x, y, width, height in ssresults:\n",
    "    img_resized = cv2.resize(img[y:y+height, x:x+width], (224, 224), interpolation=cv2.INTER_AREA)\n",
    "    img_resized = img_resized / 255.\n",
    "    img_resized = np.expand_dims(img_resized, axis=0)\n",
    "    pred = load_model.predict(img_resized)\n",
    "    if pred > 0.5:\n",
    "        bbox = mpatches.Rectangle((x, y), width, height, fill=False, edgecolor='red', linewidth=1)\n",
    "        ax.add_patch(bbox)\n",
    "\n",
    "ax.imshow(img)\n",
    "plt.axis('off')\n",
    "plt.show()"
   ]
  },
  {
   "cell_type": "code",
   "execution_count": null,
   "metadata": {},
   "outputs": [],
   "source": []
  }
 ],
 "metadata": {
  "interpreter": {
   "hash": "283fe6808d4c293748df6188092505315bdc55342e467f220bd1a7f28b22cd1a"
  },
  "kernelspec": {
   "display_name": "nhay103",
   "language": "python",
   "name": "nhay103"
  },
  "language_info": {
   "codemirror_mode": {
    "name": "ipython",
    "version": 3
   },
   "file_extension": ".py",
   "mimetype": "text/x-python",
   "name": "python",
   "nbconvert_exporter": "python",
   "pygments_lexer": "ipython3",
   "version": "3.9.6"
  }
 },
 "nbformat": 4,
 "nbformat_minor": 2
}
